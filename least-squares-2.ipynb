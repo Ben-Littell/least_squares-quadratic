{
 "cells": [
  {
   "cell_type": "code",
   "execution_count": 1,
   "id": "8f429840",
   "metadata": {
    "_cell_guid": "b1076dfc-b9ad-4769-8c92-a6c4dae69d19",
    "_uuid": "8f2839f25d086af736a60e9eeb907d3b93b6e0e5",
    "execution": {
     "iopub.execute_input": "2022-12-20T02:53:13.124128Z",
     "iopub.status.busy": "2022-12-20T02:53:13.123591Z",
     "iopub.status.idle": "2022-12-20T02:53:13.141544Z",
     "shell.execute_reply": "2022-12-20T02:53:13.139622Z"
    },
    "papermill": {
     "duration": 0.0267,
     "end_time": "2022-12-20T02:53:13.145015",
     "exception": false,
     "start_time": "2022-12-20T02:53:13.118315",
     "status": "completed"
    },
    "tags": []
   },
   "outputs": [],
   "source": [
    "# This Python 3 environment comes with many helpful analytics libraries installed\n",
    "# It is defined by the kaggle/python Docker image: https://github.com/kaggle/docker-python\n",
    "# For example, here's several helpful packages to load\n",
    "\n",
    "import numpy as np # linear algebra\n",
    "import pandas as pd # data processing, CSV file I/O (e.g. pd.read_csv)\n",
    "import matplotlib.pyplot as plt\n",
    "import math\n",
    "# Input data files are available in the read-only \"../input/\" directory\n",
    "# For example, running this (by clicking run or pressing Shift+Enter) will list all files under the input directory\n",
    "\n",
    "import os\n",
    "for dirname, _, filenames in os.walk('/kaggle/input'):\n",
    "    for filename in filenames:\n",
    "        print(os.path.join(dirname, filename))\n",
    "\n",
    "# You can write up to 20GB to the current directory (/kaggle/working/) that gets preserved as output when you create a version using \"Save & Run All\" \n",
    "# You can also write temporary files to /kaggle/temp/, but they won't be saved outside of the current session"
   ]
  },
  {
   "cell_type": "code",
   "execution_count": 2,
   "id": "e2ef0ba0",
   "metadata": {
    "execution": {
     "iopub.execute_input": "2022-12-20T02:53:13.151660Z",
     "iopub.status.busy": "2022-12-20T02:53:13.151174Z",
     "iopub.status.idle": "2022-12-20T02:53:13.186401Z",
     "shell.execute_reply": "2022-12-20T02:53:13.184262Z"
    },
    "papermill": {
     "duration": 0.044917,
     "end_time": "2022-12-20T02:53:13.192353",
     "exception": false,
     "start_time": "2022-12-20T02:53:13.147436",
     "status": "completed"
    },
    "tags": []
   },
   "outputs": [
    {
     "name": "stdout",
     "output_type": "stream",
     "text": [
      "0.6666666666666663 -3.7142857142857135 5.619047619047617\n"
     ]
    }
   ],
   "source": [
    "def regression_eqn(ind_array, dep_array, linear=True):\n",
    "    x_4 = (ind_array**4).sum()\n",
    "    x_3 = (ind_array**3).sum()\n",
    "    x_2 = (ind_array**2).sum()\n",
    "    x_1 = (ind_array).sum()\n",
    "    n = len(ind_array)\n",
    "    xy_2 = ((ind_array**2 * dep_array)).sum()\n",
    "    xy = (ind_array * dep_array).sum()\n",
    "    if linear:\n",
    "        matrix1 = [[x_2, ind_array.sum()], [ind_array.sum(), n]]\n",
    "        matrix2 = [[xy], [dep_array.sum()]]\n",
    "        invarray1 = np.linalg.inv(matrix1)\n",
    "        solution = np.dot(invarray1, matrix2)\n",
    "        return solution\n",
    "    else:\n",
    "        matrix1 = [[x_4, x_3, x_2], [x_3, x_2, x_1], [x_2, x_1, n]]\n",
    "        matrix2 = [[xy_2], [xy], [dep_array.sum()]]\n",
    "        invarray1 = np.linalg.inv(matrix1)\n",
    "        solution = np.dot(invarray1, matrix2)\n",
    "        return solution[0][0], solution[1][0], solution[2][0]\n",
    "    \n",
    "\n",
    "    \n",
    "    \n",
    "def mean(data):\n",
    "    total = sum(data)\n",
    "    m = total/len(data)\n",
    "    return m\n",
    "    \n",
    "def median(data):\n",
    "    data.sort()\n",
    "    if len(data)%2 == 0:\n",
    "        m = (data[len(data)//2] + data[len(data)//2-1])/2\n",
    "    else:\n",
    "        m = data[len(data)//2]\n",
    "    return m\n",
    "\n",
    "def variance(data):\n",
    "    new_list = [(val-mean(data))**2 for val in data]\n",
    "    v = mean(new_list)\n",
    "    return v\n",
    "\n",
    "def stand_dev(data):\n",
    "    v = variance(data)\n",
    "    s = math.sqrt(v)\n",
    "    return s\n",
    "    \n",
    "    \n",
    "    \n",
    "x = np.array([-1.0,0.0,1.0,2.0,3.0,4.0,5.0,6.0])\n",
    "y = np.array([10.0,6.0,2.0,1.0,0.0,2.0,4.0,7.0])\n",
    "\n",
    "coeff_2, coeff_1, y_int = regression_eqn(x, y, linear=False)\n",
    "print(coeff_2, coeff_1, y_int)"
   ]
  },
  {
   "cell_type": "code",
   "execution_count": 3,
   "id": "ec6a1ff7",
   "metadata": {
    "execution": {
     "iopub.execute_input": "2022-12-20T02:53:13.206455Z",
     "iopub.status.busy": "2022-12-20T02:53:13.204716Z",
     "iopub.status.idle": "2022-12-20T02:53:13.558308Z",
     "shell.execute_reply": "2022-12-20T02:53:13.557065Z"
    },
    "papermill": {
     "duration": 0.363901,
     "end_time": "2022-12-20T02:53:13.561276",
     "exception": false,
     "start_time": "2022-12-20T02:53:13.197375",
     "status": "completed"
    },
    "tags": []
   },
   "outputs": [
    {
     "name": "stdout",
     "output_type": "stream",
     "text": [
      "0.3933978962347216\n"
     ]
    },
    {
     "data": {
      "image/png": "[encoded data removed]",
      "text/plain": [
       "<Figure size 432x288 with 1 Axes>"
      ]
     },
     "metadata": {
      "needs_background": "light"
     },
     "output_type": "display_data"
    }
   ],
   "source": [
    "# need to convert residuals to accept a quadratic, scatter plot is partially done\n",
    "\n",
    "def residuals(xd, yd, n=2):\n",
    "    xdl = xd.tolist()\n",
    "    ydl = yd.tolist()\n",
    "    coeff2, coeff1, y_int = regression_eqn(xd, yd, linear=False)\n",
    "    ys = [(coeff2 * (val**2)) + (coeff1*val) + y_int for val in xdl]\n",
    "    r = [yd[n]-ys[n] for n in range(len(ydl))]\n",
    "    mr = mean(r)\n",
    "    stdr = stand_dev(r)\n",
    "    return r, mr, stdr\n",
    "\n",
    "def scatter_plot_er_2(data1, data2, coeff2, coeff1, y_int, std, title='Graph', xt='X', yt='Y', n=2):\n",
    "    data1 = data1.tolist()\n",
    "    data2 = data2.tolist()\n",
    "    y_vals = []\n",
    "    e1 = []\n",
    "    e2 = []\n",
    "    x_data = [min(data1), max(data1)]\n",
    "    for val in range(len(data1)):\n",
    "        ans = (coeff2 * (data1[val]**2)) + (coeff1*data1[val]) + y_int\n",
    "        y_vals.append(ans)\n",
    "    for val in range(len(data1)):\n",
    "        ans = (coeff2 * (data1[val]**2)) + (coeff1*data1[val]) + y_int +(n*std)\n",
    "        e1.append(ans)\n",
    "    for val in range(len(data1)):\n",
    "        ans = (coeff2 * (data1[val]**2)) + (coeff1*data1[val]) + y_int -(n*std)\n",
    "        e2.append(ans)\n",
    "    plt.plot(data1, y_vals, '-r')\n",
    "    plt.plot(data1, e1, '--r')\n",
    "    plt.plot(data1, e2, '--r')\n",
    "    plt.scatter(data1, data2)\n",
    "    plt.title(title)\n",
    "    plt.xlabel(xt)\n",
    "    plt.ylabel(yt)\n",
    "    plt.text(x_data[1], y_vals[1], f'Y={round(coeff2, 5)}*X^2+{round(coeff1, 2)}X+{round(y_int, 2)}', color='g')\n",
    "    plt.show()\n",
    "    \n",
    "    \n",
    "res, mres, resstd = residuals(x, y)\n",
    "print(resstd)\n",
    "scatter_plot_er_2(x, y, coeff_2, coeff_1, y_int, resstd)"
   ]
  }
 ],
 "metadata": {
  "kernelspec": {
   "display_name": "Python 3",
   "language": "python",
   "name": "python3"
  },
  "language_info": {
   "codemirror_mode": {
    "name": "ipython",
    "version": 3
   },
   "file_extension": ".py",
   "mimetype": "text/x-python",
   "name": "python",
   "nbconvert_exporter": "python",
   "pygments_lexer": "ipython3",
   "version": "3.7.12"
  },
  "papermill": {
   "default_parameters": {},
   "duration": 12.647396,
   "end_time": "2022-12-20T02:53:14.288220",
   "environment_variables": {},
   "exception": null,
   "input_path": "__notebook__.ipynb",
   "output_path": "__notebook__.ipynb",
   "parameters": {},
   "start_time": "2022-12-20T02:53:01.640824",
   "version": "2.3.4"
  }
 },
 "nbformat": 4,
 "nbformat_minor": 5
}
