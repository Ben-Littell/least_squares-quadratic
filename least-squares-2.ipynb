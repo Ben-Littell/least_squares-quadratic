{
 "cells": [
  {
   "cell_type": "code",
   "execution_count": 1,
   "id": "db89b40d",
   "metadata": {
    "_cell_guid": "b1076dfc-b9ad-4769-8c92-a6c4dae69d19",
    "_uuid": "8f2839f25d086af736a60e9eeb907d3b93b6e0e5",
    "execution": {
     "iopub.execute_input": "2022-12-16T17:15:35.404380Z",
     "iopub.status.busy": "2022-12-16T17:15:35.403398Z",
     "iopub.status.idle": "2022-12-16T17:15:35.418279Z",
     "shell.execute_reply": "2022-12-16T17:15:35.416791Z"
    },
    "papermill": {
     "duration": 0.022973,
     "end_time": "2022-12-16T17:15:35.421405",
     "exception": false,
     "start_time": "2022-12-16T17:15:35.398432",
     "status": "completed"
    },
    "tags": []
   },
   "outputs": [],
   "source": [
    "# This Python 3 environment comes with many helpful analytics libraries installed\n",
    "# It is defined by the kaggle/python Docker image: https://github.com/kaggle/docker-python\n",
    "# For example, here's several helpful packages to load\n",
    "\n",
    "import numpy as np # linear algebra\n",
    "import pandas as pd # data processing, CSV file I/O (e.g. pd.read_csv)\n",
    "\n",
    "# Input data files are available in the read-only \"../input/\" directory\n",
    "# For example, running this (by clicking run or pressing Shift+Enter) will list all files under the input directory\n",
    "\n",
    "import os\n",
    "for dirname, _, filenames in os.walk('/kaggle/input'):\n",
    "    for filename in filenames:\n",
    "        print(os.path.join(dirname, filename))\n",
    "\n",
    "# You can write up to 20GB to the current directory (/kaggle/working/) that gets preserved as output when you create a version using \"Save & Run All\" \n",
    "# You can also write temporary files to /kaggle/temp/, but they won't be saved outside of the current session"
   ]
  },
  {
   "cell_type": "code",
   "execution_count": 2,
   "id": "f821531d",
   "metadata": {
    "execution": {
     "iopub.execute_input": "2022-12-16T17:15:35.427573Z",
     "iopub.status.busy": "2022-12-16T17:15:35.426335Z",
     "iopub.status.idle": "2022-12-16T17:15:35.456701Z",
     "shell.execute_reply": "2022-12-16T17:15:35.454612Z"
    },
    "papermill": {
     "duration": 0.037263,
     "end_time": "2022-12-16T17:15:35.460673",
     "exception": false,
     "start_time": "2022-12-16T17:15:35.423410",
     "status": "completed"
    },
    "tags": []
   },
   "outputs": [
    {
     "name": "stdout",
     "output_type": "stream",
     "text": [
      "[[ 0.66666667]\n",
      " [-3.71428571]\n",
      " [ 5.61904762]]\n"
     ]
    }
   ],
   "source": [
    "def regression_eqn(ind_array, dep_array, linear=True):\n",
    "    x_4 = (ind_array**4).sum()\n",
    "    x_3 = (ind_array**3).sum()\n",
    "    x_2 = (ind_array**2).sum()\n",
    "    x_1 = (ind_array).sum()\n",
    "    n = len(ind_array)\n",
    "    xy_2 = ((ind_array**2 * dep_array)).sum()\n",
    "    xy = (ind_array * dep_array).sum()\n",
    "    if linear:\n",
    "        matrix1 = [[x_2, ind_array.sum()], [ind_array.sum(), n]]\n",
    "        matrix2 = [[xy], [dep_array.sum()]]\n",
    "        invarray1 = np.linalg.inv(matrix1)\n",
    "        solution = np.dot(invarray1, matrix2)\n",
    "        return solution\n",
    "    else:\n",
    "        matrix1 = [[x_4, x_3, x_2], [x_3, x_2, x_1], [x_2, x_1, n]]\n",
    "        matrix2 = [[xy_2], [xy], [dep_array.sum()]]\n",
    "        invarray1 = np.linalg.inv(matrix1)\n",
    "        solution = np.dot(invarray1, matrix2)\n",
    "        return solution\n",
    "    \n",
    "    \n",
    "    \n",
    "x = np.array([-1.0,0.0,1.0,2.0,3.0,4.0,5.0,6.0])\n",
    "y = np.array([10.0,6.0,2.0,1.0,0.0,2.0,4.0,7.0])\n",
    "\n",
    "lst2 = regression_eqn(x, y, linear=False)\n",
    "print(lst2)"
   ]
  }
 ],
 "metadata": {
  "kernelspec": {
   "display_name": "Python 3",
   "language": "python",
   "name": "python3"
  },
  "language_info": {
   "codemirror_mode": {
    "name": "ipython",
    "version": 3
   },
   "file_extension": ".py",
   "mimetype": "text/x-python",
   "name": "python",
   "nbconvert_exporter": "python",
   "pygments_lexer": "ipython3",
   "version": "3.7.12"
  },
  "papermill": {
   "default_parameters": {},
   "duration": 10.73751,
   "end_time": "2022-12-16T17:15:36.185120",
   "environment_variables": {},
   "exception": null,
   "input_path": "__notebook__.ipynb",
   "output_path": "__notebook__.ipynb",
   "parameters": {},
   "start_time": "2022-12-16T17:15:25.447610",
   "version": "2.3.4"
  }
 },
 "nbformat": 4,
 "nbformat_minor": 5
}
